{
 "cells": [
  {
   "cell_type": "code",
   "execution_count": null,
   "id": "5501b2c5",
   "metadata": {
    "vscode": {
     "languageId": "plaintext"
    }
   },
   "outputs": [],
   "source": [
    "# Count the Number of Good Subarrays\n",
    "class Solution:\n",
    "    def countGood(self, nums: List[int], k: int) -> int:\n",
    "        pairs = 0\n",
    "        ans = 0\n",
    "        counter = defaultdict(int)\n",
    "        l = 0\n",
    "\n",
    "        for r in range(len(nums)):\n",
    "            counter[nums[r]] += 1\n",
    "            if counter[nums[r]] >= 2:\n",
    "                pairs += counter[nums[r]] * (counter[nums[r]] - 1) // 2 # Add curr pairs\n",
    "                pairs -= (counter[nums[r]] - 1) * (counter[nums[r]] - 2) // 2 # Sub prev pairs\n",
    "            while pairs >= k:\n",
    "                ans += len(nums) - r # Add curr + right subarrs\n",
    "                counter[nums[l]] -= 1\n",
    "                if counter[nums[l]] >= 1:\n",
    "                    pairs -= (counter[nums[l]] + 1) * (counter[nums[l]]) // 2 # Sub prev pairs\n",
    "                    pairs += (counter[nums[l]]) * (counter[nums[l]] - 1) // 2 # Add curr pairs\n",
    "                l += 1\n",
    "\n",
    "        return ans"
   ]
  }
 ],
 "metadata": {
  "kernelspec": {
   "display_name": "Python 3 (ipykernel)",
   "language": "python",
   "name": "python3"
  },
  "language_info": {
   "codemirror_mode": {
    "name": "ipython",
    "version": 3
   },
   "file_extension": ".py",
   "mimetype": "text/x-python",
   "name": "python",
   "nbconvert_exporter": "python",
   "pygments_lexer": "ipython3",
   "version": "3.12.4"
  }
 },
 "nbformat": 4,
 "nbformat_minor": 5
}
